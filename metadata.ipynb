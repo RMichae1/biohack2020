{
 "cells": [
  {
   "cell_type": "code",
   "execution_count": 417,
   "metadata": {},
   "outputs": [
    {
     "output_type": "display_data",
     "data": {
      "text/html": "        <script type=\"text/javascript\">\n        window.PlotlyConfig = {MathJaxConfig: 'local'};\n        if (window.MathJax) {MathJax.Hub.Config({SVG: {font: \"STIX-Web\"}});}\n        if (typeof require !== 'undefined') {\n        require.undef(\"plotly\");\n        requirejs.config({\n            paths: {\n                'plotly': ['https://cdn.plot.ly/plotly-latest.min']\n            }\n        });\n        require(['plotly'], function(Plotly) {\n            window._Plotly = Plotly;\n        });\n        }\n        </script>\n        "
     },
     "metadata": {}
    }
   ],
   "source": [
    "# Load in our libraries\n",
    "import pandas as pd\n",
    "import numpy as np\n",
    "import re\n",
    "import sklearn\n",
    "import xgboost as xgb\n",
    "#import seaborn as sns\n",
    "import warnings\n",
    "warnings.filterwarnings('ignore')\n",
    "\n",
    "import plotly.offline as py\n",
    "py.init_notebook_mode(connected=True)\n",
    "import plotly.graph_objs as go\n",
    "import plotly.tools as tls\n",
    "import matplotlib.pyplot as plt\n",
    "from sklearn.ensemble import RandomForestClassifier, AdaBoostClassifier, GradientBoostingClassifier, ExtraTreesClassifier\n",
    "from sklearn.model_selection import KFold, train_test_split"
   ]
  },
  {
   "cell_type": "code",
   "execution_count": 418,
   "metadata": {},
   "outputs": [],
   "source": [
    "\n",
    "cores = clf.score(x_test,y_test)\n",
    "\n",
    "train = pd.read_csv('data/meta/new_meta.tsv','\\t')\n",
    "x_train = train[[\"AGE\", \"TYPE\", \"MONTHS\", \"SURVIVAL\"]]\n",
    "y_train = train[[\"INTCLUST\"]]\n",
    "x_train, x_test, y_train, y_test = train_test_split(x_train, y_train, test_size=0.25)\n"
   ]
  },
  {
   "cell_type": "code",
   "execution_count": 419,
   "metadata": {},
   "outputs": [
    {
     "output_type": "execute_result",
     "data": {
      "text/plain": "0.20843091334894615"
     },
     "metadata": {},
     "execution_count": 419
    }
   ],
   "source": [
    "\n",
    "et = ExtraTreesClassifier(n_jobs=-1, n_estimators=500, max_depth=8, min_samples_leaf=2)\n",
    "et.fit(x_train, y_train)\n",
    "score = et.score(x_test,y_test)\n",
    "score"
   ]
  },
  {
   "cell_type": "code",
   "execution_count": 420,
   "metadata": {},
   "outputs": [
    {
     "output_type": "execute_result",
     "data": {
      "text/plain": "array(['8', '4ER+', '3', ..., '8', '8', '3'], dtype=object)"
     },
     "metadata": {},
     "execution_count": 420
    }
   ],
   "source": [
    "tcga = pd.read_csv('data/meta/new_tcga.tsv','\\t')\n",
    "x_tcga = train[[\"AGE\", \"TYPE\", \"MONTHS\", \"SURVIVAL\"]]\n",
    "\n",
    "y_tcga = et.predict(x_tcga)"
   ]
  }
 ],
 "metadata": {
  "language_info": {
   "codemirror_mode": {
    "name": "ipython",
    "version": 3
   },
   "file_extension": ".py",
   "mimetype": "text/x-python",
   "name": "python",
   "nbconvert_exporter": "python",
   "pygments_lexer": "ipython3",
   "version": "3.6.2-final"
  },
  "orig_nbformat": 2,
  "kernelspec": {
   "name": "python3",
   "display_name": "Python 3"
  }
 },
 "nbformat": 4,
 "nbformat_minor": 2
}